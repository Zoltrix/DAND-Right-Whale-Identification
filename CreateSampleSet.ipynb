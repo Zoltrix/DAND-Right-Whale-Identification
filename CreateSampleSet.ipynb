{
 "metadata": {
  "name": "",
  "signature": "sha256:b94411567bed021425121740e1fe012b47a9380dd645b047c3943de1d0ec520c"
 },
 "nbformat": 3,
 "nbformat_minor": 0,
 "worksheets": [
  {
   "cells": [
    {
     "cell_type": "code",
     "collapsed": false,
     "input": [
      "##We want to begin by building a very simple recognizer/indentifier using a subset of the images\n",
      "\n",
      "# write a function subset_whale_data that takes in a list of whaleIDs and creates a subfolder \n",
      "\n",
      "\n",
      "def subset_whale_date(whales, num_photos):\n",
      "    for whale in whales:\n",
      "        ##access the whale\n",
      "\n",
      "\n",
      "## also want to create subset of the train data"
     ],
     "language": "python",
     "metadata": {},
     "outputs": []
    }
   ],
   "metadata": {}
  }
 ]
}